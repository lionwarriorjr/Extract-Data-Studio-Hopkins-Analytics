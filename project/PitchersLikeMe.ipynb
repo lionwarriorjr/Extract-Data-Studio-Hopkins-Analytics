{
 "cells": [
  {
   "cell_type": "markdown",
   "metadata": {},
   "source": [
    "## Pitchers Like Me: Clustering Implementation"
   ]
  },
  {
   "cell_type": "code",
   "execution_count": 164,
   "metadata": {
    "collapsed": false
   },
   "outputs": [],
   "source": [
    "import numpy as np\n",
    "import scipy\n",
    "import pandas as pd\n",
    "import sklearn\n",
    "from sklearn.preprocessing import StandardScaler\n",
    "from sklearn.cluster import KMeans\n",
    "from sklearn import grid_search\n",
    "from sklearn.pipeline import Pipeline\n",
    "from collections import Counter\n",
    "import matplotlib.pyplot as plt\n",
    "from sklearn import grid_search\n",
    "from sklearn.pipeline import Pipeline\n",
    "from scipy.sparse import csr_matrix\n",
    "from scipy.sparse.csgraph import minimum_spanning_tree, connected_components\n",
    "from sklearn.base import BaseEstimator, ClusterMixin"
   ]
  },
  {
   "cell_type": "code",
   "execution_count": 180,
   "metadata": {
    "collapsed": true
   },
   "outputs": [],
   "source": [
    "# threshold for number of pitchers a pitcher must have thrown\n",
    "pitch_threshold = 300"
   ]
  },
  {
   "cell_type": "markdown",
   "metadata": {},
   "source": [
    "## Preprocessing"
   ]
  },
  {
   "cell_type": "markdown",
   "metadata": {},
   "source": [
    "#### Read in 2018 Data"
   ]
  },
  {
   "cell_type": "code",
   "execution_count": 32,
   "metadata": {
    "collapsed": false
   },
   "outputs": [
    {
     "data": {
      "text/html": [
       "<div>\n",
       "<style scoped>\n",
       "    .dataframe tbody tr th:only-of-type {\n",
       "        vertical-align: middle;\n",
       "    }\n",
       "\n",
       "    .dataframe tbody tr th {\n",
       "        vertical-align: top;\n",
       "    }\n",
       "\n",
       "    .dataframe thead th {\n",
       "        text-align: right;\n",
       "    }\n",
       "</style>\n",
       "<table border=\"1\" class=\"dataframe\">\n",
       "  <thead>\n",
       "    <tr style=\"text-align: right;\">\n",
       "      <th></th>\n",
       "      <th>pitch_type</th>\n",
       "      <th>game_date</th>\n",
       "      <th>release_speed</th>\n",
       "      <th>release_pos_x</th>\n",
       "      <th>release_pos_z</th>\n",
       "      <th>player_name</th>\n",
       "      <th>batter</th>\n",
       "      <th>pitcher</th>\n",
       "      <th>events</th>\n",
       "      <th>description</th>\n",
       "      <th>...</th>\n",
       "      <th>away_score</th>\n",
       "      <th>bat_score</th>\n",
       "      <th>fld_score</th>\n",
       "      <th>post_away_score</th>\n",
       "      <th>post_home_score</th>\n",
       "      <th>post_bat_score</th>\n",
       "      <th>post_fld_score</th>\n",
       "      <th>if_fielding_alignment</th>\n",
       "      <th>of_fielding_alignment</th>\n",
       "      <th>barrel</th>\n",
       "    </tr>\n",
       "  </thead>\n",
       "  <tbody>\n",
       "    <tr>\n",
       "      <th>0</th>\n",
       "      <td>FF</td>\n",
       "      <td>2018-04-08</td>\n",
       "      <td>93.5</td>\n",
       "      <td>-2.8990</td>\n",
       "      <td>6.0014</td>\n",
       "      <td>Giancarlo Stanton</td>\n",
       "      <td>519317</td>\n",
       "      <td>542960</td>\n",
       "      <td>strikeout</td>\n",
       "      <td>swinging_strike</td>\n",
       "      <td>...</td>\n",
       "      <td>8</td>\n",
       "      <td>7</td>\n",
       "      <td>8</td>\n",
       "      <td>8</td>\n",
       "      <td>7</td>\n",
       "      <td>7</td>\n",
       "      <td>8</td>\n",
       "      <td>Standard</td>\n",
       "      <td>Standard</td>\n",
       "      <td>NaN</td>\n",
       "    </tr>\n",
       "    <tr>\n",
       "      <th>1</th>\n",
       "      <td>CH</td>\n",
       "      <td>2018-04-08</td>\n",
       "      <td>86.4</td>\n",
       "      <td>-3.2825</td>\n",
       "      <td>5.6651</td>\n",
       "      <td>Giancarlo Stanton</td>\n",
       "      <td>519317</td>\n",
       "      <td>542960</td>\n",
       "      <td>NaN</td>\n",
       "      <td>called_strike</td>\n",
       "      <td>...</td>\n",
       "      <td>8</td>\n",
       "      <td>7</td>\n",
       "      <td>8</td>\n",
       "      <td>8</td>\n",
       "      <td>7</td>\n",
       "      <td>7</td>\n",
       "      <td>8</td>\n",
       "      <td>Standard</td>\n",
       "      <td>Standard</td>\n",
       "      <td>NaN</td>\n",
       "    </tr>\n",
       "    <tr>\n",
       "      <th>2</th>\n",
       "      <td>FF</td>\n",
       "      <td>2018-04-08</td>\n",
       "      <td>94.3</td>\n",
       "      <td>-2.3989</td>\n",
       "      <td>6.2012</td>\n",
       "      <td>Giancarlo Stanton</td>\n",
       "      <td>519317</td>\n",
       "      <td>542960</td>\n",
       "      <td>NaN</td>\n",
       "      <td>ball</td>\n",
       "      <td>...</td>\n",
       "      <td>8</td>\n",
       "      <td>7</td>\n",
       "      <td>8</td>\n",
       "      <td>8</td>\n",
       "      <td>7</td>\n",
       "      <td>7</td>\n",
       "      <td>8</td>\n",
       "      <td>Standard</td>\n",
       "      <td>Standard</td>\n",
       "      <td>NaN</td>\n",
       "    </tr>\n",
       "    <tr>\n",
       "      <th>3</th>\n",
       "      <td>FF</td>\n",
       "      <td>2018-04-08</td>\n",
       "      <td>93.5</td>\n",
       "      <td>-2.5249</td>\n",
       "      <td>6.2101</td>\n",
       "      <td>Giancarlo Stanton</td>\n",
       "      <td>519317</td>\n",
       "      <td>542960</td>\n",
       "      <td>NaN</td>\n",
       "      <td>foul</td>\n",
       "      <td>...</td>\n",
       "      <td>8</td>\n",
       "      <td>7</td>\n",
       "      <td>8</td>\n",
       "      <td>8</td>\n",
       "      <td>7</td>\n",
       "      <td>7</td>\n",
       "      <td>8</td>\n",
       "      <td>Standard</td>\n",
       "      <td>Standard</td>\n",
       "      <td>NaN</td>\n",
       "    </tr>\n",
       "    <tr>\n",
       "      <th>4</th>\n",
       "      <td>CH</td>\n",
       "      <td>2018-04-08</td>\n",
       "      <td>85.8</td>\n",
       "      <td>-3.4158</td>\n",
       "      <td>5.6694</td>\n",
       "      <td>Aaron Judge</td>\n",
       "      <td>592450</td>\n",
       "      <td>542960</td>\n",
       "      <td>grounded_into_double_play</td>\n",
       "      <td>hit_into_play</td>\n",
       "      <td>...</td>\n",
       "      <td>8</td>\n",
       "      <td>7</td>\n",
       "      <td>8</td>\n",
       "      <td>8</td>\n",
       "      <td>7</td>\n",
       "      <td>7</td>\n",
       "      <td>8</td>\n",
       "      <td>Strategic</td>\n",
       "      <td>Standard</td>\n",
       "      <td>0.0</td>\n",
       "    </tr>\n",
       "  </tbody>\n",
       "</table>\n",
       "<p>5 rows × 90 columns</p>\n",
       "</div>"
      ],
      "text/plain": [
       "  pitch_type   game_date  release_speed  release_pos_x  release_pos_z  \\\n",
       "0         FF  2018-04-08           93.5        -2.8990         6.0014   \n",
       "1         CH  2018-04-08           86.4        -3.2825         5.6651   \n",
       "2         FF  2018-04-08           94.3        -2.3989         6.2012   \n",
       "3         FF  2018-04-08           93.5        -2.5249         6.2101   \n",
       "4         CH  2018-04-08           85.8        -3.4158         5.6694   \n",
       "\n",
       "         player_name  batter  pitcher                     events  \\\n",
       "0  Giancarlo Stanton  519317   542960                  strikeout   \n",
       "1  Giancarlo Stanton  519317   542960                        NaN   \n",
       "2  Giancarlo Stanton  519317   542960                        NaN   \n",
       "3  Giancarlo Stanton  519317   542960                        NaN   \n",
       "4        Aaron Judge  592450   542960  grounded_into_double_play   \n",
       "\n",
       "       description  ...    away_score  bat_score  fld_score  post_away_score  \\\n",
       "0  swinging_strike  ...             8          7          8                8   \n",
       "1    called_strike  ...             8          7          8                8   \n",
       "2             ball  ...             8          7          8                8   \n",
       "3             foul  ...             8          7          8                8   \n",
       "4    hit_into_play  ...             8          7          8                8   \n",
       "\n",
       "   post_home_score post_bat_score post_fld_score if_fielding_alignment  \\\n",
       "0                7              7              8              Standard   \n",
       "1                7              7              8              Standard   \n",
       "2                7              7              8              Standard   \n",
       "3                7              7              8              Standard   \n",
       "4                7              7              8             Strategic   \n",
       "\n",
       "  of_fielding_alignment barrel  \n",
       "0              Standard    NaN  \n",
       "1              Standard    NaN  \n",
       "2              Standard    NaN  \n",
       "3              Standard    NaN  \n",
       "4              Standard    0.0  \n",
       "\n",
       "[5 rows x 90 columns]"
      ]
     },
     "execution_count": 32,
     "metadata": {},
     "output_type": "execute_result"
    }
   ],
   "source": [
    "data = pd.read_csv('2018_updated_final.csv', encoding='latin1', low_memory=False)\n",
    "data.head()"
   ]
  },
  {
   "cell_type": "markdown",
   "metadata": {},
   "source": [
    "Desired Fields:\n",
    "Type\n",
    "–– Perceived Speed\n",
    "–– Release Angle\n",
    "–– Release Direction\n",
    "–– Spin Axis\n",
    "–– Release Position X\n",
    "–– Release Position Y\n",
    "–– Release Position Z\n",
    "–– Extension\n",
    "–– Vertical Break\n",
    "–– Vertical Break Induced\n",
    "–– Horizontal Break\n",
    "–– Location X\n",
    "–– Location Y\n",
    "–– Location Z\n",
    "–– Zone Speed\n",
    "–– Effective Velocity\n",
    "–– Vertical Approach Angle\n",
    "–– Horizontal Approach Angle\n",
    "–– Zone Time"
   ]
  },
  {
   "cell_type": "markdown",
   "metadata": {},
   "source": [
    "#### Preprocess the data and keep only those columns requested above (from the email). Some are missing because they don't seem to exist"
   ]
  },
  {
   "cell_type": "code",
   "execution_count": 40,
   "metadata": {
    "collapsed": false
   },
   "outputs": [],
   "source": [
    "keep = ['pitcher', 'pitch_type', 'release_spin_rate', 'release_pos_x', 'release_pos_y', 'release_pos_z',\n",
    "        'release_extension', 'plate_x', 'plate_z', 'effective_speed', 'p_throws']\n",
    "data = data[keep]\n",
    "data = data.fillna(data.mean())"
   ]
  },
  {
   "cell_type": "code",
   "execution_count": 41,
   "metadata": {
    "collapsed": false
   },
   "outputs": [
    {
     "data": {
      "text/html": [
       "<div>\n",
       "<style scoped>\n",
       "    .dataframe tbody tr th:only-of-type {\n",
       "        vertical-align: middle;\n",
       "    }\n",
       "\n",
       "    .dataframe tbody tr th {\n",
       "        vertical-align: top;\n",
       "    }\n",
       "\n",
       "    .dataframe thead th {\n",
       "        text-align: right;\n",
       "    }\n",
       "</style>\n",
       "<table border=\"1\" class=\"dataframe\">\n",
       "  <thead>\n",
       "    <tr style=\"text-align: right;\">\n",
       "      <th></th>\n",
       "      <th>pitcher</th>\n",
       "      <th>pitch_type</th>\n",
       "      <th>release_spin_rate</th>\n",
       "      <th>release_pos_x</th>\n",
       "      <th>release_pos_y</th>\n",
       "      <th>release_pos_z</th>\n",
       "      <th>release_extension</th>\n",
       "      <th>plate_x</th>\n",
       "      <th>plate_z</th>\n",
       "      <th>effective_speed</th>\n",
       "      <th>p_throws</th>\n",
       "    </tr>\n",
       "  </thead>\n",
       "  <tbody>\n",
       "    <tr>\n",
       "      <th>0</th>\n",
       "      <td>542960</td>\n",
       "      <td>FF</td>\n",
       "      <td>2415.0</td>\n",
       "      <td>-2.8990</td>\n",
       "      <td>54.6681</td>\n",
       "      <td>6.0014</td>\n",
       "      <td>5.831</td>\n",
       "      <td>0.2211</td>\n",
       "      <td>3.3739</td>\n",
       "      <td>92.360</td>\n",
       "      <td>R</td>\n",
       "    </tr>\n",
       "    <tr>\n",
       "      <th>1</th>\n",
       "      <td>542960</td>\n",
       "      <td>CH</td>\n",
       "      <td>2082.0</td>\n",
       "      <td>-3.2825</td>\n",
       "      <td>54.3302</td>\n",
       "      <td>5.6651</td>\n",
       "      <td>6.169</td>\n",
       "      <td>0.6790</td>\n",
       "      <td>2.0509</td>\n",
       "      <td>86.275</td>\n",
       "      <td>R</td>\n",
       "    </tr>\n",
       "    <tr>\n",
       "      <th>2</th>\n",
       "      <td>542960</td>\n",
       "      <td>FF</td>\n",
       "      <td>2367.0</td>\n",
       "      <td>-2.3989</td>\n",
       "      <td>54.4215</td>\n",
       "      <td>6.2012</td>\n",
       "      <td>6.078</td>\n",
       "      <td>1.2735</td>\n",
       "      <td>1.9941</td>\n",
       "      <td>93.769</td>\n",
       "      <td>R</td>\n",
       "    </tr>\n",
       "    <tr>\n",
       "      <th>3</th>\n",
       "      <td>542960</td>\n",
       "      <td>FF</td>\n",
       "      <td>2331.0</td>\n",
       "      <td>-2.5249</td>\n",
       "      <td>54.5184</td>\n",
       "      <td>6.2101</td>\n",
       "      <td>5.981</td>\n",
       "      <td>-0.3819</td>\n",
       "      <td>2.6193</td>\n",
       "      <td>92.596</td>\n",
       "      <td>R</td>\n",
       "    </tr>\n",
       "    <tr>\n",
       "      <th>4</th>\n",
       "      <td>542960</td>\n",
       "      <td>CH</td>\n",
       "      <td>2039.0</td>\n",
       "      <td>-3.4158</td>\n",
       "      <td>54.8703</td>\n",
       "      <td>5.6694</td>\n",
       "      <td>5.629</td>\n",
       "      <td>-0.3398</td>\n",
       "      <td>1.6989</td>\n",
       "      <td>84.703</td>\n",
       "      <td>R</td>\n",
       "    </tr>\n",
       "  </tbody>\n",
       "</table>\n",
       "</div>"
      ],
      "text/plain": [
       "   pitcher pitch_type  release_spin_rate  release_pos_x  release_pos_y  \\\n",
       "0   542960         FF             2415.0        -2.8990        54.6681   \n",
       "1   542960         CH             2082.0        -3.2825        54.3302   \n",
       "2   542960         FF             2367.0        -2.3989        54.4215   \n",
       "3   542960         FF             2331.0        -2.5249        54.5184   \n",
       "4   542960         CH             2039.0        -3.4158        54.8703   \n",
       "\n",
       "   release_pos_z  release_extension  plate_x  plate_z  effective_speed  \\\n",
       "0         6.0014              5.831   0.2211   3.3739           92.360   \n",
       "1         5.6651              6.169   0.6790   2.0509           86.275   \n",
       "2         6.2012              6.078   1.2735   1.9941           93.769   \n",
       "3         6.2101              5.981  -0.3819   2.6193           92.596   \n",
       "4         5.6694              5.629  -0.3398   1.6989           84.703   \n",
       "\n",
       "  p_throws  \n",
       "0        R  \n",
       "1        R  \n",
       "2        R  \n",
       "3        R  \n",
       "4        R  "
      ]
     },
     "execution_count": 41,
     "metadata": {},
     "output_type": "execute_result"
    }
   ],
   "source": [
    "data.head()"
   ]
  },
  {
   "cell_type": "code",
   "execution_count": 43,
   "metadata": {
    "collapsed": false
   },
   "outputs": [],
   "source": [
    "throws = data['p_throws']\n",
    "throws = [1 if throws[i] == 'R' else 0 for i in range(len(throws))]\n",
    "data['p_throws'] = throws"
   ]
  },
  {
   "cell_type": "code",
   "execution_count": 31,
   "metadata": {
    "collapsed": false
   },
   "outputs": [
    {
     "data": {
      "text/html": [
       "<div>\n",
       "<style scoped>\n",
       "    .dataframe tbody tr th:only-of-type {\n",
       "        vertical-align: middle;\n",
       "    }\n",
       "\n",
       "    .dataframe tbody tr th {\n",
       "        vertical-align: top;\n",
       "    }\n",
       "\n",
       "    .dataframe thead th {\n",
       "        text-align: right;\n",
       "    }\n",
       "</style>\n",
       "<table border=\"1\" class=\"dataframe\">\n",
       "  <thead>\n",
       "    <tr style=\"text-align: right;\">\n",
       "      <th></th>\n",
       "      <th>pitch_type</th>\n",
       "      <th>release_spin_rate</th>\n",
       "      <th>release_pos_x</th>\n",
       "      <th>release_pos_y</th>\n",
       "      <th>release_pos_z</th>\n",
       "      <th>release_extension</th>\n",
       "      <th>plate_x</th>\n",
       "      <th>plate_z</th>\n",
       "      <th>effective_speed</th>\n",
       "      <th>p_throws</th>\n",
       "    </tr>\n",
       "  </thead>\n",
       "  <tbody>\n",
       "    <tr>\n",
       "      <th>0</th>\n",
       "      <td>FF</td>\n",
       "      <td>2415.0</td>\n",
       "      <td>-2.8990</td>\n",
       "      <td>54.6681</td>\n",
       "      <td>6.0014</td>\n",
       "      <td>5.831</td>\n",
       "      <td>0.2211</td>\n",
       "      <td>3.3739</td>\n",
       "      <td>92.360</td>\n",
       "      <td>1</td>\n",
       "    </tr>\n",
       "    <tr>\n",
       "      <th>1</th>\n",
       "      <td>CH</td>\n",
       "      <td>2082.0</td>\n",
       "      <td>-3.2825</td>\n",
       "      <td>54.3302</td>\n",
       "      <td>5.6651</td>\n",
       "      <td>6.169</td>\n",
       "      <td>0.6790</td>\n",
       "      <td>2.0509</td>\n",
       "      <td>86.275</td>\n",
       "      <td>1</td>\n",
       "    </tr>\n",
       "    <tr>\n",
       "      <th>2</th>\n",
       "      <td>FF</td>\n",
       "      <td>2367.0</td>\n",
       "      <td>-2.3989</td>\n",
       "      <td>54.4215</td>\n",
       "      <td>6.2012</td>\n",
       "      <td>6.078</td>\n",
       "      <td>1.2735</td>\n",
       "      <td>1.9941</td>\n",
       "      <td>93.769</td>\n",
       "      <td>1</td>\n",
       "    </tr>\n",
       "    <tr>\n",
       "      <th>3</th>\n",
       "      <td>FF</td>\n",
       "      <td>2331.0</td>\n",
       "      <td>-2.5249</td>\n",
       "      <td>54.5184</td>\n",
       "      <td>6.2101</td>\n",
       "      <td>5.981</td>\n",
       "      <td>-0.3819</td>\n",
       "      <td>2.6193</td>\n",
       "      <td>92.596</td>\n",
       "      <td>1</td>\n",
       "    </tr>\n",
       "    <tr>\n",
       "      <th>4</th>\n",
       "      <td>CH</td>\n",
       "      <td>2039.0</td>\n",
       "      <td>-3.4158</td>\n",
       "      <td>54.8703</td>\n",
       "      <td>5.6694</td>\n",
       "      <td>5.629</td>\n",
       "      <td>-0.3398</td>\n",
       "      <td>1.6989</td>\n",
       "      <td>84.703</td>\n",
       "      <td>1</td>\n",
       "    </tr>\n",
       "  </tbody>\n",
       "</table>\n",
       "</div>"
      ],
      "text/plain": [
       "  pitch_type  release_spin_rate  release_pos_x  release_pos_y  release_pos_z  \\\n",
       "0         FF             2415.0        -2.8990        54.6681         6.0014   \n",
       "1         CH             2082.0        -3.2825        54.3302         5.6651   \n",
       "2         FF             2367.0        -2.3989        54.4215         6.2012   \n",
       "3         FF             2331.0        -2.5249        54.5184         6.2101   \n",
       "4         CH             2039.0        -3.4158        54.8703         5.6694   \n",
       "\n",
       "   release_extension  plate_x  plate_z  effective_speed  p_throws  \n",
       "0              5.831   0.2211   3.3739           92.360         1  \n",
       "1              6.169   0.6790   2.0509           86.275         1  \n",
       "2              6.078   1.2735   1.9941           93.769         1  \n",
       "3              5.981  -0.3819   2.6193           92.596         1  \n",
       "4              5.629  -0.3398   1.6989           84.703         1  "
      ]
     },
     "execution_count": 31,
     "metadata": {},
     "output_type": "execute_result"
    }
   ],
   "source": [
    "data.head()"
   ]
  },
  {
   "cell_type": "markdown",
   "metadata": {},
   "source": [
    "#### Group-by and aggregate by mean value for each dimension across each pitch type and pitcher"
   ]
  },
  {
   "cell_type": "code",
   "execution_count": 93,
   "metadata": {
    "collapsed": true
   },
   "outputs": [],
   "source": [
    "data['ncount'] = 1\n",
    "keys = {'release_spin_rate': np.mean, 'release_pos_x': np.mean, 'release_pos_y': np.mean, 'release_pos_z': np.mean,\n",
    "        'release_extension': np.mean, 'plate_x': np.mean, 'plate_z': np.mean, \n",
    "        'effective_speed': np.mean, 'p_throws': np.mean, 'ncount': np.sum}"
   ]
  },
  {
   "cell_type": "code",
   "execution_count": 107,
   "metadata": {
    "collapsed": false
   },
   "outputs": [
    {
     "data": {
      "text/html": [
       "<div>\n",
       "<style scoped>\n",
       "    .dataframe tbody tr th:only-of-type {\n",
       "        vertical-align: middle;\n",
       "    }\n",
       "\n",
       "    .dataframe tbody tr th {\n",
       "        vertical-align: top;\n",
       "    }\n",
       "\n",
       "    .dataframe thead th {\n",
       "        text-align: right;\n",
       "    }\n",
       "</style>\n",
       "<table border=\"1\" class=\"dataframe\">\n",
       "  <thead>\n",
       "    <tr style=\"text-align: right;\">\n",
       "      <th></th>\n",
       "      <th>pitch_type</th>\n",
       "      <th>pitcher</th>\n",
       "      <th>release_pos_y</th>\n",
       "      <th>plate_z</th>\n",
       "      <th>ncount</th>\n",
       "      <th>p_throws</th>\n",
       "      <th>release_pos_x</th>\n",
       "      <th>release_spin_rate</th>\n",
       "      <th>release_extension</th>\n",
       "      <th>release_pos_z</th>\n",
       "      <th>effective_speed</th>\n",
       "      <th>plate_x</th>\n",
       "    </tr>\n",
       "  </thead>\n",
       "  <tbody>\n",
       "    <tr>\n",
       "      <th>8</th>\n",
       "      <td>CH</td>\n",
       "      <td>425844</td>\n",
       "      <td>54.595012</td>\n",
       "      <td>1.564012</td>\n",
       "      <td>486</td>\n",
       "      <td>1.0</td>\n",
       "      <td>-1.223190</td>\n",
       "      <td>1747.221519</td>\n",
       "      <td>5.906290</td>\n",
       "      <td>6.187645</td>\n",
       "      <td>86.160481</td>\n",
       "      <td>-0.484788</td>\n",
       "    </tr>\n",
       "    <tr>\n",
       "      <th>12</th>\n",
       "      <td>CH</td>\n",
       "      <td>430935</td>\n",
       "      <td>54.191291</td>\n",
       "      <td>1.615048</td>\n",
       "      <td>427</td>\n",
       "      <td>0.0</td>\n",
       "      <td>2.603454</td>\n",
       "      <td>1650.411378</td>\n",
       "      <td>6.307349</td>\n",
       "      <td>6.236578</td>\n",
       "      <td>83.203913</td>\n",
       "      <td>0.429624</td>\n",
       "    </tr>\n",
       "    <tr>\n",
       "      <th>14</th>\n",
       "      <td>CH</td>\n",
       "      <td>433587</td>\n",
       "      <td>54.343393</td>\n",
       "      <td>1.935728</td>\n",
       "      <td>428</td>\n",
       "      <td>1.0</td>\n",
       "      <td>-2.231967</td>\n",
       "      <td>1711.260884</td>\n",
       "      <td>6.156110</td>\n",
       "      <td>5.939094</td>\n",
       "      <td>84.892963</td>\n",
       "      <td>-0.322914</td>\n",
       "    </tr>\n",
       "    <tr>\n",
       "      <th>31</th>\n",
       "      <td>CH</td>\n",
       "      <td>448306</td>\n",
       "      <td>53.793941</td>\n",
       "      <td>1.779267</td>\n",
       "      <td>425</td>\n",
       "      <td>1.0</td>\n",
       "      <td>-2.487900</td>\n",
       "      <td>1671.574118</td>\n",
       "      <td>6.705294</td>\n",
       "      <td>5.634798</td>\n",
       "      <td>84.116419</td>\n",
       "      <td>-0.487487</td>\n",
       "    </tr>\n",
       "    <tr>\n",
       "      <th>44</th>\n",
       "      <td>CH</td>\n",
       "      <td>453281</td>\n",
       "      <td>54.226183</td>\n",
       "      <td>1.776442</td>\n",
       "      <td>540</td>\n",
       "      <td>0.0</td>\n",
       "      <td>2.694541</td>\n",
       "      <td>1507.679630</td>\n",
       "      <td>6.273796</td>\n",
       "      <td>5.643504</td>\n",
       "      <td>77.692594</td>\n",
       "      <td>0.536807</td>\n",
       "    </tr>\n",
       "  </tbody>\n",
       "</table>\n",
       "</div>"
      ],
      "text/plain": [
       "   pitch_type  pitcher  release_pos_y   plate_z  ncount  p_throws  \\\n",
       "8          CH   425844      54.595012  1.564012     486       1.0   \n",
       "12         CH   430935      54.191291  1.615048     427       0.0   \n",
       "14         CH   433587      54.343393  1.935728     428       1.0   \n",
       "31         CH   448306      53.793941  1.779267     425       1.0   \n",
       "44         CH   453281      54.226183  1.776442     540       0.0   \n",
       "\n",
       "    release_pos_x  release_spin_rate  release_extension  release_pos_z  \\\n",
       "8       -1.223190        1747.221519           5.906290       6.187645   \n",
       "12       2.603454        1650.411378           6.307349       6.236578   \n",
       "14      -2.231967        1711.260884           6.156110       5.939094   \n",
       "31      -2.487900        1671.574118           6.705294       5.634798   \n",
       "44       2.694541        1507.679630           6.273796       5.643504   \n",
       "\n",
       "    effective_speed   plate_x  \n",
       "8         86.160481 -0.484788  \n",
       "12        83.203913  0.429624  \n",
       "14        84.892963 -0.322914  \n",
       "31        84.116419 -0.487487  \n",
       "44        77.692594  0.536807  "
      ]
     },
     "execution_count": 107,
     "metadata": {},
     "output_type": "execute_result"
    }
   ],
   "source": [
    "X = data.groupby(['pitch_type', 'pitcher'], as_index=False).agg(keys)\n",
    "X = X[X['ncount'] > pitch_threshold]\n",
    "X.head()"
   ]
  },
  {
   "cell_type": "code",
   "execution_count": 108,
   "metadata": {
    "collapsed": false
   },
   "outputs": [
    {
     "data": {
      "text/html": [
       "<div>\n",
       "<style scoped>\n",
       "    .dataframe tbody tr th:only-of-type {\n",
       "        vertical-align: middle;\n",
       "    }\n",
       "\n",
       "    .dataframe tbody tr th {\n",
       "        vertical-align: top;\n",
       "    }\n",
       "\n",
       "    .dataframe thead th {\n",
       "        text-align: right;\n",
       "    }\n",
       "</style>\n",
       "<table border=\"1\" class=\"dataframe\">\n",
       "  <thead>\n",
       "    <tr style=\"text-align: right;\">\n",
       "      <th></th>\n",
       "      <th>pitch_type</th>\n",
       "      <th>pitcher</th>\n",
       "      <th>release_pos_y</th>\n",
       "      <th>plate_z</th>\n",
       "      <th>p_throws</th>\n",
       "      <th>release_pos_x</th>\n",
       "      <th>release_spin_rate</th>\n",
       "      <th>release_extension</th>\n",
       "      <th>release_pos_z</th>\n",
       "      <th>effective_speed</th>\n",
       "      <th>plate_x</th>\n",
       "    </tr>\n",
       "  </thead>\n",
       "  <tbody>\n",
       "    <tr>\n",
       "      <th>8</th>\n",
       "      <td>CH</td>\n",
       "      <td>425844</td>\n",
       "      <td>54.595012</td>\n",
       "      <td>1.564012</td>\n",
       "      <td>1.0</td>\n",
       "      <td>-1.223190</td>\n",
       "      <td>1747.221519</td>\n",
       "      <td>5.906290</td>\n",
       "      <td>6.187645</td>\n",
       "      <td>86.160481</td>\n",
       "      <td>-0.484788</td>\n",
       "    </tr>\n",
       "    <tr>\n",
       "      <th>12</th>\n",
       "      <td>CH</td>\n",
       "      <td>430935</td>\n",
       "      <td>54.191291</td>\n",
       "      <td>1.615048</td>\n",
       "      <td>0.0</td>\n",
       "      <td>2.603454</td>\n",
       "      <td>1650.411378</td>\n",
       "      <td>6.307349</td>\n",
       "      <td>6.236578</td>\n",
       "      <td>83.203913</td>\n",
       "      <td>0.429624</td>\n",
       "    </tr>\n",
       "    <tr>\n",
       "      <th>14</th>\n",
       "      <td>CH</td>\n",
       "      <td>433587</td>\n",
       "      <td>54.343393</td>\n",
       "      <td>1.935728</td>\n",
       "      <td>1.0</td>\n",
       "      <td>-2.231967</td>\n",
       "      <td>1711.260884</td>\n",
       "      <td>6.156110</td>\n",
       "      <td>5.939094</td>\n",
       "      <td>84.892963</td>\n",
       "      <td>-0.322914</td>\n",
       "    </tr>\n",
       "    <tr>\n",
       "      <th>31</th>\n",
       "      <td>CH</td>\n",
       "      <td>448306</td>\n",
       "      <td>53.793941</td>\n",
       "      <td>1.779267</td>\n",
       "      <td>1.0</td>\n",
       "      <td>-2.487900</td>\n",
       "      <td>1671.574118</td>\n",
       "      <td>6.705294</td>\n",
       "      <td>5.634798</td>\n",
       "      <td>84.116419</td>\n",
       "      <td>-0.487487</td>\n",
       "    </tr>\n",
       "    <tr>\n",
       "      <th>44</th>\n",
       "      <td>CH</td>\n",
       "      <td>453281</td>\n",
       "      <td>54.226183</td>\n",
       "      <td>1.776442</td>\n",
       "      <td>0.0</td>\n",
       "      <td>2.694541</td>\n",
       "      <td>1507.679630</td>\n",
       "      <td>6.273796</td>\n",
       "      <td>5.643504</td>\n",
       "      <td>77.692594</td>\n",
       "      <td>0.536807</td>\n",
       "    </tr>\n",
       "  </tbody>\n",
       "</table>\n",
       "</div>"
      ],
      "text/plain": [
       "   pitch_type  pitcher  release_pos_y   plate_z  p_throws  release_pos_x  \\\n",
       "8          CH   425844      54.595012  1.564012       1.0      -1.223190   \n",
       "12         CH   430935      54.191291  1.615048       0.0       2.603454   \n",
       "14         CH   433587      54.343393  1.935728       1.0      -2.231967   \n",
       "31         CH   448306      53.793941  1.779267       1.0      -2.487900   \n",
       "44         CH   453281      54.226183  1.776442       0.0       2.694541   \n",
       "\n",
       "    release_spin_rate  release_extension  release_pos_z  effective_speed  \\\n",
       "8         1747.221519           5.906290       6.187645        86.160481   \n",
       "12        1650.411378           6.307349       6.236578        83.203913   \n",
       "14        1711.260884           6.156110       5.939094        84.892963   \n",
       "31        1671.574118           6.705294       5.634798        84.116419   \n",
       "44        1507.679630           6.273796       5.643504        77.692594   \n",
       "\n",
       "     plate_x  \n",
       "8  -0.484788  \n",
       "12  0.429624  \n",
       "14 -0.322914  \n",
       "31 -0.487487  \n",
       "44  0.536807  "
      ]
     },
     "execution_count": 108,
     "metadata": {},
     "output_type": "execute_result"
    }
   ],
   "source": [
    "del X['ncount']\n",
    "X.head()"
   ]
  },
  {
   "cell_type": "code",
   "execution_count": 109,
   "metadata": {
    "collapsed": false
   },
   "outputs": [
    {
     "data": {
      "text/plain": [
       "array(['CH', 'CU', 'FC', 'FF', 'FS', 'FT', 'KC', 'KN', 'SI', 'SL'],\n",
       "      dtype=object)"
      ]
     },
     "execution_count": 109,
     "metadata": {},
     "output_type": "execute_result"
    }
   ],
   "source": [
    "pitch_types, pitchers = X.pitch_type.unique(), X.pitcher.unique()\n",
    "pitch_types"
   ]
  },
  {
   "cell_type": "markdown",
   "metadata": {},
   "source": [
    "#### Normalize the data to 0 mean, unit variance columns"
   ]
  },
  {
   "cell_type": "code",
   "execution_count": 110,
   "metadata": {
    "collapsed": false
   },
   "outputs": [
    {
     "data": {
      "text/html": [
       "<div>\n",
       "<style scoped>\n",
       "    .dataframe tbody tr th:only-of-type {\n",
       "        vertical-align: middle;\n",
       "    }\n",
       "\n",
       "    .dataframe tbody tr th {\n",
       "        vertical-align: top;\n",
       "    }\n",
       "\n",
       "    .dataframe thead th {\n",
       "        text-align: right;\n",
       "    }\n",
       "</style>\n",
       "<table border=\"1\" class=\"dataframe\">\n",
       "  <thead>\n",
       "    <tr style=\"text-align: right;\">\n",
       "      <th></th>\n",
       "      <th>pitch_type</th>\n",
       "      <th>pitcher</th>\n",
       "      <th>release_pos_y</th>\n",
       "      <th>plate_z</th>\n",
       "      <th>p_throws</th>\n",
       "      <th>release_pos_x</th>\n",
       "      <th>release_spin_rate</th>\n",
       "      <th>release_extension</th>\n",
       "      <th>release_pos_z</th>\n",
       "      <th>effective_speed</th>\n",
       "      <th>plate_x</th>\n",
       "    </tr>\n",
       "  </thead>\n",
       "  <tbody>\n",
       "    <tr>\n",
       "      <th>8</th>\n",
       "      <td>CH</td>\n",
       "      <td>425844</td>\n",
       "      <td>0.251314</td>\n",
       "      <td>-1.731765</td>\n",
       "      <td>0.635418</td>\n",
       "      <td>-0.238998</td>\n",
       "      <td>-1.885026</td>\n",
       "      <td>-0.247486</td>\n",
       "      <td>0.679442</td>\n",
       "      <td>-0.469703</td>\n",
       "      <td>-1.741378</td>\n",
       "    </tr>\n",
       "    <tr>\n",
       "      <th>12</th>\n",
       "      <td>CH</td>\n",
       "      <td>430935</td>\n",
       "      <td>-0.658185</td>\n",
       "      <td>-1.606357</td>\n",
       "      <td>-1.573768</td>\n",
       "      <td>1.701230</td>\n",
       "      <td>-2.251312</td>\n",
       "      <td>0.655892</td>\n",
       "      <td>0.780478</td>\n",
       "      <td>-0.986197</td>\n",
       "      <td>1.270696</td>\n",
       "    </tr>\n",
       "    <tr>\n",
       "      <th>14</th>\n",
       "      <td>CH</td>\n",
       "      <td>433587</td>\n",
       "      <td>-0.315530</td>\n",
       "      <td>-0.818382</td>\n",
       "      <td>0.635418</td>\n",
       "      <td>-0.750479</td>\n",
       "      <td>-2.021085</td>\n",
       "      <td>0.315230</td>\n",
       "      <td>0.166234</td>\n",
       "      <td>-0.691130</td>\n",
       "      <td>-1.208167</td>\n",
       "    </tr>\n",
       "    <tr>\n",
       "      <th>31</th>\n",
       "      <td>CH</td>\n",
       "      <td>448306</td>\n",
       "      <td>-1.553331</td>\n",
       "      <td>-1.202838</td>\n",
       "      <td>0.635418</td>\n",
       "      <td>-0.880245</td>\n",
       "      <td>-2.171242</td>\n",
       "      <td>1.552255</td>\n",
       "      <td>-0.462079</td>\n",
       "      <td>-0.826788</td>\n",
       "      <td>-1.750270</td>\n",
       "    </tr>\n",
       "    <tr>\n",
       "      <th>44</th>\n",
       "      <td>CH</td>\n",
       "      <td>453281</td>\n",
       "      <td>-0.579580</td>\n",
       "      <td>-1.209780</td>\n",
       "      <td>-1.573768</td>\n",
       "      <td>1.747414</td>\n",
       "      <td>-2.791344</td>\n",
       "      <td>0.580315</td>\n",
       "      <td>-0.444103</td>\n",
       "      <td>-1.948990</td>\n",
       "      <td>1.623758</td>\n",
       "    </tr>\n",
       "  </tbody>\n",
       "</table>\n",
       "</div>"
      ],
      "text/plain": [
       "   pitch_type  pitcher  release_pos_y   plate_z  p_throws  release_pos_x  \\\n",
       "8          CH   425844       0.251314 -1.731765  0.635418      -0.238998   \n",
       "12         CH   430935      -0.658185 -1.606357 -1.573768       1.701230   \n",
       "14         CH   433587      -0.315530 -0.818382  0.635418      -0.750479   \n",
       "31         CH   448306      -1.553331 -1.202838  0.635418      -0.880245   \n",
       "44         CH   453281      -0.579580 -1.209780 -1.573768       1.747414   \n",
       "\n",
       "    release_spin_rate  release_extension  release_pos_z  effective_speed  \\\n",
       "8           -1.885026          -0.247486       0.679442        -0.469703   \n",
       "12          -2.251312           0.655892       0.780478        -0.986197   \n",
       "14          -2.021085           0.315230       0.166234        -0.691130   \n",
       "31          -2.171242           1.552255      -0.462079        -0.826788   \n",
       "44          -2.791344           0.580315      -0.444103        -1.948990   \n",
       "\n",
       "     plate_x  \n",
       "8  -1.741378  \n",
       "12  1.270696  \n",
       "14 -1.208167  \n",
       "31 -1.750270  \n",
       "44  1.623758  "
      ]
     },
     "execution_count": 110,
     "metadata": {},
     "output_type": "execute_result"
    }
   ],
   "source": [
    "scaler = StandardScaler()\n",
    "X.iloc[:,2:] = scaler.fit_transform(X.iloc[:,2:])\n",
    "X.head()"
   ]
  },
  {
   "cell_type": "markdown",
   "metadata": {},
   "source": [
    "## Generate the Cluster Assignments"
   ]
  },
  {
   "cell_type": "markdown",
   "metadata": {},
   "source": [
    "### K-Means"
   ]
  },
  {
   "cell_type": "code",
   "execution_count": 124,
   "metadata": {
    "collapsed": true
   },
   "outputs": [],
   "source": [
    "cluster_limit = 15\n",
    "models = {}\n",
    "for pitch_type in pitch_types:\n",
    "    models[pitch_type] = {}"
   ]
  },
  {
   "cell_type": "markdown",
   "metadata": {},
   "source": [
    "#### In the plots below, the optimal number of clusterings should be at the elbow of the curve"
   ]
  },
  {
   "cell_type": "code",
   "execution_count": 125,
   "metadata": {
    "collapsed": false,
    "scrolled": false
   },
   "outputs": [
    {
     "data": {
      "image/png": "[encoded data removed]",
      "text/plain": [
       "<matplotlib.figure.Figure at 0x15e74d748>"
      ]
     },
     "metadata": {},
     "output_type": "display_data"
    },
    {
     "data": {
      "image/png": "[encoded data removed]",
      "text/plain": [
       "<matplotlib.figure.Figure at 0x15e414c50>"
      ]
     },
     "metadata": {},
     "output_type": "display_data"
    },
    {
     "data": {
      "image/png": "[encoded data removed]",
      "text/plain": [
       "<matplotlib.figure.Figure at 0x16189ea20>"
      ]
     },
     "metadata": {},
     "output_type": "display_data"
    },
    {
     "data": {
      "image/png": "[encoded data removed]",
      "text/plain": [
       "<matplotlib.figure.Figure at 0x15e4429e8>"
      ]
     },
     "metadata": {},
     "output_type": "display_data"
    },
    {
     "data": {
      "image/png": "[encoded data removed]",
      "text/plain": [
       "<matplotlib.figure.Figure at 0x15e717080>"
      ]
     },
     "metadata": {},
     "output_type": "display_data"
    },
    {
     "data": {
      "image/png": "[encoded data removed]",
      "text/plain": [
       "<matplotlib.figure.Figure at 0x15e4d3668>"
      ]
     },
     "metadata": {},
     "output_type": "display_data"
    },
    {
     "data": {
      "image/png": "[encoded data removed]",
      "text/plain": [
       "<matplotlib.figure.Figure at 0x15e566b00>"
      ]
     },
     "metadata": {},
     "output_type": "display_data"
    },
    {
     "data": {
      "image/png": "[encoded data removed]",
      "text/plain": [
       "<matplotlib.figure.Figure at 0x14b0a40b8>"
      ]
     },
     "metadata": {},
     "output_type": "display_data"
    }
   ],
   "source": [
    "K = range(1, cluster_limit)\n",
    "for pitch_type in pitch_types:\n",
    "    group = X[X['pitch_type'] == pitch_type]\n",
    "    group = group.drop(['pitch_type','pitcher'], 1)\n",
    "    if group.shape[0] > cluster_limit:\n",
    "        sum_of_squared_distances = []\n",
    "        for k in K:\n",
    "            km = KMeans(n_clusters=k)\n",
    "            km = km.fit(group)\n",
    "            models[pitch_type][k] = km\n",
    "            sum_of_squared_distances.append(km.inertia_)\n",
    "        plt.plot(K, sum_of_squared_distances, 'bx-')\n",
    "        plt.xlabel('k')\n",
    "        plt.ylabel('Sum_of_squared_distances')\n",
    "        plt.title('Elbow Method For Optimal k: ' + pitch_type)\n",
    "        plt.show()"
   ]
  },
  {
   "cell_type": "markdown",
   "metadata": {},
   "source": [
    "#### The clustering models by pitch type are stored in the means dict below (kmeans[pitch_type] returns a model to fit on new data)"
   ]
  },
  {
   "cell_type": "code",
   "execution_count": 130,
   "metadata": {
    "collapsed": false
   },
   "outputs": [
    {
     "data": {
      "text/plain": [
       "{'CH': KMeans(algorithm='auto', copy_x=True, init='k-means++', max_iter=300,\n",
       "     n_clusters=5, n_init=10, n_jobs=1, precompute_distances='auto',\n",
       "     random_state=None, tol=0.0001, verbose=0),\n",
       " 'CU': KMeans(algorithm='auto', copy_x=True, init='k-means++', max_iter=300,\n",
       "     n_clusters=7, n_init=10, n_jobs=1, precompute_distances='auto',\n",
       "     random_state=None, tol=0.0001, verbose=0),\n",
       " 'FC': KMeans(algorithm='auto', copy_x=True, init='k-means++', max_iter=300,\n",
       "     n_clusters=3, n_init=10, n_jobs=1, precompute_distances='auto',\n",
       "     random_state=None, tol=0.0001, verbose=0),\n",
       " 'FF': KMeans(algorithm='auto', copy_x=True, init='k-means++', max_iter=300,\n",
       "     n_clusters=5, n_init=10, n_jobs=1, precompute_distances='auto',\n",
       "     random_state=None, tol=0.0001, verbose=0),\n",
       " 'FT': KMeans(algorithm='auto', copy_x=True, init='k-means++', max_iter=300,\n",
       "     n_clusters=7, n_init=10, n_jobs=1, precompute_distances='auto',\n",
       "     random_state=None, tol=0.0001, verbose=0),\n",
       " 'KC': KMeans(algorithm='auto', copy_x=True, init='k-means++', max_iter=300,\n",
       "     n_clusters=4, n_init=10, n_jobs=1, precompute_distances='auto',\n",
       "     random_state=None, tol=0.0001, verbose=0),\n",
       " 'SI': KMeans(algorithm='auto', copy_x=True, init='k-means++', max_iter=300,\n",
       "     n_clusters=8, n_init=10, n_jobs=1, precompute_distances='auto',\n",
       "     random_state=None, tol=0.0001, verbose=0),\n",
       " 'SL': KMeans(algorithm='auto', copy_x=True, init='k-means++', max_iter=300,\n",
       "     n_clusters=6, n_init=10, n_jobs=1, precompute_distances='auto',\n",
       "     random_state=None, tol=0.0001, verbose=0)}"
      ]
     },
     "execution_count": 130,
     "metadata": {},
     "output_type": "execute_result"
    }
   ],
   "source": [
    "kmeans = {}\n",
    "kmeans['CH'] = models['CH'][5]\n",
    "kmeans['CU'] = models['CU'][7]\n",
    "kmeans['FC'] = models['FC'][3]\n",
    "kmeans['FF'] = models['FF'][5]\n",
    "kmeans['FT'] = models['FT'][7]\n",
    "kmeans['KC'] = models['KC'][4]\n",
    "kmeans['SI'] = models['SI'][8]\n",
    "kmeans['SL'] = models['SL'][6]\n",
    "kmeans"
   ]
  },
  {
   "cell_type": "markdown",
   "metadata": {},
   "source": [
    "### GridSearch clustering pipeline"
   ]
  },
  {
   "cell_type": "code",
   "execution_count": 159,
   "metadata": {
    "collapsed": false
   },
   "outputs": [],
   "source": [
    "pipelines = {}\n",
    "cluster_limit = 10"
   ]
  },
  {
   "cell_type": "code",
   "execution_count": 150,
   "metadata": {
    "collapsed": false
   },
   "outputs": [
    {
     "data": {
      "text/plain": [
       "{'CH': Pipeline(memory=None,\n",
       "      steps=[('clusterer', GridSearchCV(cv=None, error_score='raise',\n",
       "        estimator=KMeans(algorithm='auto', copy_x=True, init='k-means++', max_iter=300,\n",
       "     n_clusters=8, n_init=10, n_jobs=1, precompute_distances='auto',\n",
       "     random_state=None, tol=0.0001, verbose=0),\n",
       "        fit_params={}, iid=True, n_jobs=1,\n",
       "        param_grid={'n_clusters': [1, 2, 3, 4, 5, 6, 7, 8, 9]},\n",
       "        pre_dispatch='2*n_jobs', refit=True, scoring=None, verbose=0))]),\n",
       " 'CU': Pipeline(memory=None,\n",
       "      steps=[('clusterer', GridSearchCV(cv=None, error_score='raise',\n",
       "        estimator=KMeans(algorithm='auto', copy_x=True, init='k-means++', max_iter=300,\n",
       "     n_clusters=8, n_init=10, n_jobs=1, precompute_distances='auto',\n",
       "     random_state=None, tol=0.0001, verbose=0),\n",
       "        fit_params={}, iid=True, n_jobs=1,\n",
       "        param_grid={'n_clusters': [1, 2, 3, 4, 5, 6, 7, 8, 9]},\n",
       "        pre_dispatch='2*n_jobs', refit=True, scoring=None, verbose=0))]),\n",
       " 'FC': Pipeline(memory=None,\n",
       "      steps=[('clusterer', GridSearchCV(cv=None, error_score='raise',\n",
       "        estimator=KMeans(algorithm='auto', copy_x=True, init='k-means++', max_iter=300,\n",
       "     n_clusters=8, n_init=10, n_jobs=1, precompute_distances='auto',\n",
       "     random_state=None, tol=0.0001, verbose=0),\n",
       "        fit_params={}, iid=True, n_jobs=1,\n",
       "        param_grid={'n_clusters': [1, 2, 3, 4, 5, 6, 7, 8, 9]},\n",
       "        pre_dispatch='2*n_jobs', refit=True, scoring=None, verbose=0))]),\n",
       " 'FF': Pipeline(memory=None,\n",
       "      steps=[('clusterer', GridSearchCV(cv=None, error_score='raise',\n",
       "        estimator=KMeans(algorithm='auto', copy_x=True, init='k-means++', max_iter=300,\n",
       "     n_clusters=8, n_init=10, n_jobs=1, precompute_distances='auto',\n",
       "     random_state=None, tol=0.0001, verbose=0),\n",
       "        fit_params={}, iid=True, n_jobs=1,\n",
       "        param_grid={'n_clusters': [1, 2, 3, 4, 5, 6, 7, 8, 9]},\n",
       "        pre_dispatch='2*n_jobs', refit=True, scoring=None, verbose=0))]),\n",
       " 'FT': Pipeline(memory=None,\n",
       "      steps=[('clusterer', GridSearchCV(cv=None, error_score='raise',\n",
       "        estimator=KMeans(algorithm='auto', copy_x=True, init='k-means++', max_iter=300,\n",
       "     n_clusters=8, n_init=10, n_jobs=1, precompute_distances='auto',\n",
       "     random_state=None, tol=0.0001, verbose=0),\n",
       "        fit_params={}, iid=True, n_jobs=1,\n",
       "        param_grid={'n_clusters': [1, 2, 3, 4, 5, 6, 7, 8, 9]},\n",
       "        pre_dispatch='2*n_jobs', refit=True, scoring=None, verbose=0))]),\n",
       " 'KC': Pipeline(memory=None,\n",
       "      steps=[('clusterer', GridSearchCV(cv=None, error_score='raise',\n",
       "        estimator=KMeans(algorithm='auto', copy_x=True, init='k-means++', max_iter=300,\n",
       "     n_clusters=8, n_init=10, n_jobs=1, precompute_distances='auto',\n",
       "     random_state=None, tol=0.0001, verbose=0),\n",
       "        fit_params={}, iid=True, n_jobs=1,\n",
       "        param_grid={'n_clusters': [1, 2, 3, 4, 5, 6, 7, 8, 9]},\n",
       "        pre_dispatch='2*n_jobs', refit=True, scoring=None, verbose=0))]),\n",
       " 'SI': Pipeline(memory=None,\n",
       "      steps=[('clusterer', GridSearchCV(cv=None, error_score='raise',\n",
       "        estimator=KMeans(algorithm='auto', copy_x=True, init='k-means++', max_iter=300,\n",
       "     n_clusters=8, n_init=10, n_jobs=1, precompute_distances='auto',\n",
       "     random_state=None, tol=0.0001, verbose=0),\n",
       "        fit_params={}, iid=True, n_jobs=1,\n",
       "        param_grid={'n_clusters': [1, 2, 3, 4, 5, 6, 7, 8, 9]},\n",
       "        pre_dispatch='2*n_jobs', refit=True, scoring=None, verbose=0))]),\n",
       " 'SL': Pipeline(memory=None,\n",
       "      steps=[('clusterer', GridSearchCV(cv=None, error_score='raise',\n",
       "        estimator=KMeans(algorithm='auto', copy_x=True, init='k-means++', max_iter=300,\n",
       "     n_clusters=8, n_init=10, n_jobs=1, precompute_distances='auto',\n",
       "     random_state=None, tol=0.0001, verbose=0),\n",
       "        fit_params={}, iid=True, n_jobs=1,\n",
       "        param_grid={'n_clusters': [1, 2, 3, 4, 5, 6, 7, 8, 9]},\n",
       "        pre_dispatch='2*n_jobs', refit=True, scoring=None, verbose=0))])}"
      ]
     },
     "execution_count": 150,
     "metadata": {},
     "output_type": "execute_result"
    }
   ],
   "source": [
    "for pitch_type in pitch_types:\n",
    "    group = X[X['pitch_type'] == pitch_type]\n",
    "    group = group.drop(['pitch_type','pitcher'], 1)\n",
    "    if group.shape[0] > cluster_limit:\n",
    "        parameters = {'n_clusters': [i for i in range(1, cluster_limit)]}\n",
    "        km = KMeans()\n",
    "        grid = grid_search.GridSearchCV(km, parameters)\n",
    "        pipeline = Pipeline([('clusterer', grid)])\n",
    "        pipeline.fit(group)\n",
    "        pipelines[pitch_type] = pipeline\n",
    "pipelines"
   ]
  },
  {
   "cell_type": "markdown",
   "metadata": {},
   "source": [
    "### Evidence Accumulation Clustering (EAC)\n",
    "#### Cluster data many times, record labels on each, see # times pair appears. First cluster data many times with KMeans, then apply hierarchical clustering on coassociation matrix. The hierarchical clustering in this case is same as finding minimum spanning tree."
   ]
  },
  {
   "cell_type": "code",
   "execution_count": 176,
   "metadata": {
    "collapsed": false
   },
   "outputs": [],
   "source": [
    "def create_coassociation_matrix(labels):\n",
    "    rows, cols = [], []\n",
    "    unique_labels = set(labels)\n",
    "    for label in unique_labels:\n",
    "        indices = np.where(labels == label)[0] # where instead of which in R\n",
    "        for index1 in indices: # for each pair of samples with same label, record both positions\n",
    "            for index2 in indices:\n",
    "                rows.append(index1)\n",
    "                cols.append(index2)\n",
    "    data = np.ones((len(rows),)) # data has value 1 for every time two samples were listed together\n",
    "    return csr_matrix((data, (rows, cols)), dtype='float')\n",
    "\n",
    "# Create EAC clustering algorithm fitting scikit interface\n",
    "class EAC(BaseEstimator, ClusterMixin):\n",
    "    def __init__(self, n_clusterings=25, cut_threshold=0.5, n_clusters_range=(3,cluster_limit)):\n",
    "        self.n_clusterings = n_clusterings\n",
    "        self.cut_threshold = cut_threshold\n",
    "        self.n_clusters_range = n_clusters_range\n",
    "    \n",
    "    def fit(self, X, y=None):\n",
    "        C = sum((create_coassociation_matrix(self._single_clustering(X)) \n",
    "                 for i in range(self.n_clusterings)))\n",
    "        mst = minimum_spanning_tree(-C)\n",
    "        mst.data[mst.data > -self.cut_threshold] = 0\n",
    "        self.n_components, self.labels_ = connected_components(mst)\n",
    "        return self\n",
    "    \n",
    "    def _single_clustering(self, X):\n",
    "        n_clusters = np.random.randint(*self.n_clusters_range)\n",
    "        km = KMeans(n_clusters=n_clusters)\n",
    "        return km.fit_predict(X)"
   ]
  },
  {
   "cell_type": "code",
   "execution_count": 177,
   "metadata": {
    "collapsed": true
   },
   "outputs": [],
   "source": [
    "eac = {}"
   ]
  },
  {
   "cell_type": "code",
   "execution_count": 178,
   "metadata": {
    "collapsed": false
   },
   "outputs": [
    {
     "name": "stdout",
     "output_type": "stream",
     "text": [
      "10 clusters were found\n",
      "10 clusters were found\n",
      "10 clusters were found\n",
      "10 clusters were found\n",
      "10 clusters were found\n",
      "10 clusters were found\n",
      "10 clusters were found\n",
      "10 clusters were found\n"
     ]
    },
    {
     "data": {
      "text/plain": [
       "{'CH': Pipeline(memory=None,\n",
       "      steps=[('clusterer', EAC(cut_threshold=0.5, n_clusterings=10, n_clusters_range=(3, 10)))]),\n",
       " 'CU': Pipeline(memory=None,\n",
       "      steps=[('clusterer', EAC(cut_threshold=0.5, n_clusterings=10, n_clusters_range=(3, 10)))]),\n",
       " 'FC': Pipeline(memory=None,\n",
       "      steps=[('clusterer', EAC(cut_threshold=0.5, n_clusterings=10, n_clusters_range=(3, 10)))]),\n",
       " 'FF': Pipeline(memory=None,\n",
       "      steps=[('clusterer', EAC(cut_threshold=0.5, n_clusterings=10, n_clusters_range=(3, 10)))]),\n",
       " 'FT': Pipeline(memory=None,\n",
       "      steps=[('clusterer', EAC(cut_threshold=0.5, n_clusterings=10, n_clusters_range=(3, 10)))]),\n",
       " 'KC': Pipeline(memory=None,\n",
       "      steps=[('clusterer', EAC(cut_threshold=0.5, n_clusterings=10, n_clusters_range=(3, 10)))]),\n",
       " 'SI': Pipeline(memory=None,\n",
       "      steps=[('clusterer', EAC(cut_threshold=0.5, n_clusterings=10, n_clusters_range=(3, 10)))]),\n",
       " 'SL': Pipeline(memory=None,\n",
       "      steps=[('clusterer', EAC(cut_threshold=0.5, n_clusterings=10, n_clusters_range=(3, 10)))])}"
      ]
     },
     "execution_count": 178,
     "metadata": {},
     "output_type": "execute_result"
    }
   ],
   "source": [
    "for pitch_type in pitch_types:\n",
    "    group = X[X['pitch_type'] == pitch_type]\n",
    "    group = group.drop(['pitch_type','pitcher'], 1)\n",
    "    if group.shape[0] > cluster_limit:\n",
    "        pipeline = Pipeline([('clusterer', EAC())])\n",
    "        pipeline.fit(group)\n",
    "        nEAC = pipeline.named_steps['clusterer'].n_clusterings\n",
    "        print('{} clusters were found'.format(nEAC))\n",
    "        eac[pitch_type] = pipeline\n",
    "eac"
   ]
  },
  {
   "cell_type": "markdown",
   "metadata": {},
   "source": [
    "## Generating Predictive Cluster Assignments"
   ]
  },
  {
   "cell_type": "markdown",
   "metadata": {},
   "source": [
    "#### KMeans prediction example"
   ]
  },
  {
   "cell_type": "code",
   "execution_count": 184,
   "metadata": {
    "collapsed": false
   },
   "outputs": [
    {
     "data": {
      "text/plain": [
       "array([3, 2, 0, 1, 2, 4, 4, 0, 0, 1, 3, 4, 4, 4, 2, 4, 0, 4, 1, 4, 1, 3,\n",
       "       3, 4, 3, 0, 2, 3, 2, 4, 2, 4, 2, 2, 1, 0, 2, 0, 2, 2, 2, 0, 0, 3,\n",
       "       2, 1, 1, 2, 2, 4, 2, 2, 2, 2, 0, 2, 4, 3, 3, 4, 4, 0, 4, 4, 1, 4,\n",
       "       4, 3, 2, 2, 4, 4, 1, 4, 4, 0, 2, 1, 1, 4, 0, 2, 2, 1, 4, 2, 0, 2,\n",
       "       3, 1, 4, 3, 0, 4, 2, 2, 4, 4, 4, 4, 0, 0, 1, 3, 2, 3, 4, 1, 4, 2,\n",
       "       4, 0, 4, 4, 1, 4, 2, 2, 2, 0, 1, 1, 3, 3, 2, 1, 4, 1, 4, 1, 1, 1,\n",
       "       4, 3, 1, 4, 1, 2, 1, 3, 4, 0, 1, 0, 2, 1, 4, 4, 1, 2, 1, 4, 1, 1,\n",
       "       2, 1, 2, 1, 4, 0, 3, 4, 4, 4, 3, 4, 1, 3, 2, 1, 0, 4, 0, 4, 4, 1,\n",
       "       4, 1, 2, 4, 4, 0, 3, 1, 4, 1, 4, 1, 2, 1, 3, 3, 2, 4, 1, 4, 4, 4,\n",
       "       4, 0, 0, 4, 4, 0, 4, 2, 1, 4, 3, 4, 1, 2, 1, 0, 4, 2, 1, 4, 3, 3,\n",
       "       3, 1, 1, 1, 1, 4], dtype=int32)"
      ]
     },
     "execution_count": 184,
     "metadata": {},
     "output_type": "execute_result"
    }
   ],
   "source": [
    "pitch_type = 'FF'\n",
    "group = X[X['pitch_type'] == pitch_type]\n",
    "pitchers = group.pitcher\n",
    "group = group.drop(['pitch_type','pitcher'], 1)\n",
    "labels = kmeans[pitch_type].predict(group)\n",
    "labels"
   ]
  },
  {
   "cell_type": "code",
   "execution_count": 189,
   "metadata": {
    "collapsed": false
   },
   "outputs": [
    {
     "data": {
      "text/html": [
       "<div>\n",
       "<style scoped>\n",
       "    .dataframe tbody tr th:only-of-type {\n",
       "        vertical-align: middle;\n",
       "    }\n",
       "\n",
       "    .dataframe tbody tr th {\n",
       "        vertical-align: top;\n",
       "    }\n",
       "\n",
       "    .dataframe thead th {\n",
       "        text-align: right;\n",
       "    }\n",
       "</style>\n",
       "<table border=\"1\" class=\"dataframe\">\n",
       "  <thead>\n",
       "    <tr style=\"text-align: right;\">\n",
       "      <th></th>\n",
       "      <th>pitcher</th>\n",
       "      <th>cluster</th>\n",
       "    </tr>\n",
       "  </thead>\n",
       "  <tbody>\n",
       "    <tr>\n",
       "      <th>1214</th>\n",
       "      <td>407822</td>\n",
       "      <td>3</td>\n",
       "    </tr>\n",
       "    <tr>\n",
       "      <th>1220</th>\n",
       "      <td>425844</td>\n",
       "      <td>2</td>\n",
       "    </tr>\n",
       "    <tr>\n",
       "      <th>1224</th>\n",
       "      <td>430935</td>\n",
       "      <td>0</td>\n",
       "    </tr>\n",
       "    <tr>\n",
       "      <th>1227</th>\n",
       "      <td>433589</td>\n",
       "      <td>1</td>\n",
       "    </tr>\n",
       "    <tr>\n",
       "      <th>1228</th>\n",
       "      <td>434378</td>\n",
       "      <td>2</td>\n",
       "    </tr>\n",
       "  </tbody>\n",
       "</table>\n",
       "</div>"
      ],
      "text/plain": [
       "      pitcher  cluster\n",
       "1214   407822        3\n",
       "1220   425844        2\n",
       "1224   430935        0\n",
       "1227   433589        1\n",
       "1228   434378        2"
      ]
     },
     "execution_count": 189,
     "metadata": {},
     "output_type": "execute_result"
    }
   ],
   "source": [
    "result = pd.DataFrame()\n",
    "result['pitcher'], result['cluster'] = pitchers, labels\n",
    "result.head()"
   ]
  }
 ],
 "metadata": {
  "kernelspec": {
   "display_name": "Python 3",
   "language": "python",
   "name": "python3"
  },
  "language_info": {
   "codemirror_mode": {
    "name": "ipython",
    "version": 3
   },
   "file_extension": ".py",
   "mimetype": "text/x-python",
   "name": "python",
   "nbconvert_exporter": "python",
   "pygments_lexer": "ipython3",
   "version": "3.5.2"
  }
 },
 "nbformat": 4,
 "nbformat_minor": 2
}
